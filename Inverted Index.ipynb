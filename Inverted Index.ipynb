{
 "cells": [
  {
   "cell_type": "markdown",
   "metadata": {},
   "source": [
    "# Inverted Index\n",
    "\n",
    "A data structure called **inverted index** which given a term provides access to the list of documents that contain the term. The inverted index is the list of words and the documents in which they appear\n",
    "\n",
    "<img src=\"invertedindex.jpeg\">"
   ]
  },
  {
   "cell_type": "markdown",
   "metadata": {},
   "source": [
    "## Load  libraries"
   ]
  },
  {
   "cell_type": "code",
   "execution_count": 1,
   "metadata": {},
   "outputs": [],
   "source": [
    "import os\n",
    "import nltk"
   ]
  },
  {
   "cell_type": "code",
   "execution_count": 2,
   "metadata": {},
   "outputs": [],
   "source": [
    "cwd = os.getcwd() #Get current working directory\n",
    "all_files = os.listdir(cwd)   # List all files in directory\n",
    "strtxt = '.txt'\n",
    "\n",
    "# To remove puctuation from the text\n",
    "punctuations = '''!()-[]{};:'\"\\,<>./?@#$%^&*_~'''"
   ]
  },
  {
   "cell_type": "code",
   "execution_count": 3,
   "metadata": {},
   "outputs": [],
   "source": [
    "documents =[]\n",
    "for txtfile in all_files:\n",
    "    if txtfile.__contains__(strtxt):\n",
    "        file = open(txtfile, \"r\")\n",
    "        data = file.read()\n",
    "        data = data.lower()  # converting all text to lower case\n",
    "        new_data = \"\"\n",
    "        for char in data:\n",
    "            if char not in punctuations:\n",
    "                new_data = new_data + char\n",
    "#         print(new_data+\"\\n\")\n",
    "        \n",
    "#         result_list +=new_data\n",
    "     \n",
    "        sent = nltk.sent_tokenize(new_data)\n",
    "        documents += sent                # append all words in a single  document list\n"
   ]
  },
  {
   "cell_type": "code",
   "execution_count": 4,
   "metadata": {},
   "outputs": [
    {
     "data": {
      "text/plain": [
       "['religion is a set in which collection of beliefs differentdifferent\\ncultures and the views that are related with civilization at present so\\nmany religions are there and all are explaining the origin of life and\\norigin of universe',\n",
       " 'science is the essentiality of education what we are watching with our\\neyes happening nonhappening all include science various scientists\\nworking on different topics help us to understand the science in our\\nlives science is continuous evolutionary study each day something\\nnew is determined',\n",
       " 'land rover to built discovery sport in brazil and also opens new plant\\nin america maruti launches the new version of alto k10 with or\\nwithout automatic facility in the indian market',\n",
       " 'entertainment includes so many things that are responsible for holding\\nthe attention and interest of an audience it includes various things like\\nentertainment news celebrities fashion movies music and television\\nshows etc',\n",
       " 'engineering makes the development of any country engineers are manufacturing beneficial things day by day as the professional engineers of software develops programs which reduces man work\\ncivil engineers gives their knowledge to construction to form buildings\\nhospitals etc everything can be controlled by computer systems nowadays',\n",
       " 'economy is also called as economic system and it consists of several\\nthings like production distribution using up of important goods and\\nservices by different agents in a given ecological scene',\n",
       " 'military is a good option for a career builder for youngsters military is\\nnot covering only defense it also includes it sector and its various\\nforms are army navy and air force it satisfies the sacrifice need of\\nyouth for their country',\n",
       " 'cricket is the most popular game in india in crocket a player uses a\\nbat to hit the ball and scoring runs it is played between two teams the\\nteam scoring maximum runs will win the game']"
      ]
     },
     "execution_count": 4,
     "metadata": {},
     "output_type": "execute_result"
    }
   ],
   "source": [
    "documents"
   ]
  },
  {
   "cell_type": "markdown",
   "metadata": {},
   "source": [
    "### documents list contains all the 8 document as list and it's index start from 0 to 7."
   ]
  },
  {
   "cell_type": "code",
   "execution_count": 5,
   "metadata": {},
   "outputs": [
    {
     "data": {
      "text/plain": [
       "'religion is a set in which collection of beliefs differentdifferent\\ncultures and the views that are related with civilization at present so\\nmany religions are there and all are explaining the origin of life and\\norigin of universe'"
      ]
     },
     "execution_count": 5,
     "metadata": {},
     "output_type": "execute_result"
    }
   ],
   "source": [
    "documents[0]"
   ]
  },
  {
   "cell_type": "code",
   "execution_count": 6,
   "metadata": {},
   "outputs": [
    {
     "data": {
      "text/plain": [
       "'cricket is the most popular game in india in crocket a player uses a\\nbat to hit the ball and scoring runs it is played between two teams the\\nteam scoring maximum runs will win the game'"
      ]
     },
     "execution_count": 6,
     "metadata": {},
     "output_type": "execute_result"
    }
   ],
   "source": [
    "documents[7]"
   ]
  },
  {
   "cell_type": "code",
   "execution_count": 7,
   "metadata": {},
   "outputs": [
    {
     "data": {
      "text/plain": [
       "8"
      ]
     },
     "execution_count": 7,
     "metadata": {},
     "output_type": "execute_result"
    }
   ],
   "source": [
    "len(documents)"
   ]
  },
  {
   "cell_type": "code",
   "execution_count": 8,
   "metadata": {},
   "outputs": [],
   "source": [
    "unique_terms = {term for doc in documents for term in doc.split()}"
   ]
  },
  {
   "cell_type": "code",
   "execution_count": 9,
   "metadata": {},
   "outputs": [
    {
     "data": {
      "text/plain": [
       "{'a',\n",
       " 'agents',\n",
       " 'air',\n",
       " 'all',\n",
       " 'also',\n",
       " 'alto',\n",
       " 'america',\n",
       " 'an',\n",
       " 'and',\n",
       " 'any',\n",
       " 'are',\n",
       " 'army',\n",
       " 'as',\n",
       " 'at',\n",
       " 'attention',\n",
       " 'audience',\n",
       " 'automatic',\n",
       " 'ball',\n",
       " 'bat',\n",
       " 'be',\n",
       " 'beliefs',\n",
       " 'beneficial',\n",
       " 'between',\n",
       " 'brazil',\n",
       " 'builder',\n",
       " 'buildings',\n",
       " 'built',\n",
       " 'by',\n",
       " 'called',\n",
       " 'can',\n",
       " 'career',\n",
       " 'celebrities',\n",
       " 'civil',\n",
       " 'civilization',\n",
       " 'collection',\n",
       " 'computer',\n",
       " 'consists',\n",
       " 'construction',\n",
       " 'continuous',\n",
       " 'controlled',\n",
       " 'country',\n",
       " 'covering',\n",
       " 'cricket',\n",
       " 'crocket',\n",
       " 'cultures',\n",
       " 'day',\n",
       " 'defense',\n",
       " 'determined',\n",
       " 'development',\n",
       " 'develops',\n",
       " 'different',\n",
       " 'differentdifferent',\n",
       " 'discovery',\n",
       " 'distribution',\n",
       " 'each',\n",
       " 'ecological',\n",
       " 'economic',\n",
       " 'economy',\n",
       " 'education',\n",
       " 'engineering',\n",
       " 'engineers',\n",
       " 'entertainment',\n",
       " 'essentiality',\n",
       " 'etc',\n",
       " 'everything',\n",
       " 'evolutionary',\n",
       " 'explaining',\n",
       " 'eyes',\n",
       " 'facility',\n",
       " 'fashion',\n",
       " 'for',\n",
       " 'force',\n",
       " 'form',\n",
       " 'forms',\n",
       " 'game',\n",
       " 'given',\n",
       " 'gives',\n",
       " 'good',\n",
       " 'goods',\n",
       " 'happening',\n",
       " 'help',\n",
       " 'hit',\n",
       " 'holding',\n",
       " 'hospitals',\n",
       " 'important',\n",
       " 'in',\n",
       " 'include',\n",
       " 'includes',\n",
       " 'india',\n",
       " 'indian',\n",
       " 'interest',\n",
       " 'is',\n",
       " 'it',\n",
       " 'its',\n",
       " 'k10',\n",
       " 'knowledge',\n",
       " 'land',\n",
       " 'launches',\n",
       " 'life',\n",
       " 'like',\n",
       " 'lives',\n",
       " 'makes',\n",
       " 'man',\n",
       " 'manufacturing',\n",
       " 'many',\n",
       " 'market',\n",
       " 'maruti',\n",
       " 'maximum',\n",
       " 'military',\n",
       " 'most',\n",
       " 'movies',\n",
       " 'music',\n",
       " 'navy',\n",
       " 'need',\n",
       " 'new',\n",
       " 'news',\n",
       " 'nonhappening',\n",
       " 'not',\n",
       " 'nowadays',\n",
       " 'of',\n",
       " 'on',\n",
       " 'only',\n",
       " 'opens',\n",
       " 'option',\n",
       " 'or',\n",
       " 'origin',\n",
       " 'our',\n",
       " 'plant',\n",
       " 'played',\n",
       " 'player',\n",
       " 'popular',\n",
       " 'present',\n",
       " 'production',\n",
       " 'professional',\n",
       " 'programs',\n",
       " 'reduces',\n",
       " 'related',\n",
       " 'religion',\n",
       " 'religions',\n",
       " 'responsible',\n",
       " 'rover',\n",
       " 'runs',\n",
       " 'sacrifice',\n",
       " 'satisfies',\n",
       " 'scene',\n",
       " 'science',\n",
       " 'scientists',\n",
       " 'scoring',\n",
       " 'sector',\n",
       " 'services',\n",
       " 'set',\n",
       " 'several',\n",
       " 'shows',\n",
       " 'so',\n",
       " 'software',\n",
       " 'something',\n",
       " 'sport',\n",
       " 'study',\n",
       " 'system',\n",
       " 'systems',\n",
       " 'team',\n",
       " 'teams',\n",
       " 'television',\n",
       " 'that',\n",
       " 'the',\n",
       " 'their',\n",
       " 'there',\n",
       " 'things',\n",
       " 'to',\n",
       " 'topics',\n",
       " 'two',\n",
       " 'understand',\n",
       " 'universe',\n",
       " 'up',\n",
       " 'us',\n",
       " 'uses',\n",
       " 'using',\n",
       " 'various',\n",
       " 'version',\n",
       " 'views',\n",
       " 'watching',\n",
       " 'we',\n",
       " 'what',\n",
       " 'which',\n",
       " 'will',\n",
       " 'win',\n",
       " 'with',\n",
       " 'without',\n",
       " 'work',\n",
       " 'working',\n",
       " 'youngsters',\n",
       " 'youth'}"
      ]
     },
     "execution_count": 9,
     "metadata": {},
     "output_type": "execute_result"
    }
   ],
   "source": [
    "unique_terms"
   ]
  },
  {
   "cell_type": "code",
   "execution_count": 10,
   "metadata": {},
   "outputs": [
    {
     "data": {
      "text/plain": [
       "192"
      ]
     },
     "execution_count": 10,
     "metadata": {},
     "output_type": "execute_result"
    }
   ],
   "source": [
    "len(unique_terms)"
   ]
  },
  {
   "cell_type": "code",
   "execution_count": 11,
   "metadata": {},
   "outputs": [],
   "source": [
    "inverted_index = {}       # Dictonary that contains unique term as key and document number as value\n",
    "\n",
    "for i, doc in enumerate(documents):\n",
    "    for term in doc.split():\n",
    "        if term in inverted_index:\n",
    "            inverted_index[term].add(i)\n",
    "        else: inverted_index[term] = {i}"
   ]
  },
  {
   "cell_type": "code",
   "execution_count": 12,
   "metadata": {},
   "outputs": [
    {
     "name": "stdout",
     "output_type": "stream",
     "text": [
      "{'religion': {0}, 'is': {0, 1, 5, 6, 7}, 'a': {0, 5, 6, 7}, 'set': {0}, 'in': {0, 1, 2, 5, 7}, 'which': {0, 4}, 'collection': {0}, 'of': {0, 1, 2, 3, 4, 5, 6}, 'beliefs': {0}, 'differentdifferent': {0}, 'cultures': {0}, 'and': {0, 2, 3, 5, 6, 7}, 'the': {0, 1, 2, 3, 4, 6, 7}, 'views': {0}, 'that': {0, 3}, 'are': {0, 1, 3, 4, 6}, 'related': {0}, 'with': {0, 1, 2}, 'civilization': {0}, 'at': {0}, 'present': {0}, 'so': {0, 3}, 'many': {0, 3}, 'religions': {0}, 'there': {0}, 'all': {0, 1}, 'explaining': {0}, 'origin': {0}, 'life': {0}, 'universe': {0}, 'science': {1}, 'essentiality': {1}, 'education': {1}, 'what': {1}, 'we': {1}, 'watching': {1}, 'our': {1}, 'eyes': {1}, 'happening': {1}, 'nonhappening': {1}, 'include': {1}, 'various': {1, 3, 6}, 'scientists': {1}, 'working': {1}, 'on': {1}, 'different': {1, 5}, 'topics': {1}, 'help': {1}, 'us': {1}, 'to': {1, 2, 4, 7}, 'understand': {1}, 'lives': {1}, 'continuous': {1}, 'evolutionary': {1}, 'study': {1}, 'each': {1}, 'day': {1, 4}, 'something': {1}, 'new': {1, 2}, 'determined': {1}, 'land': {2}, 'rover': {2}, 'built': {2}, 'discovery': {2}, 'sport': {2}, 'brazil': {2}, 'also': {2, 5, 6}, 'opens': {2}, 'plant': {2}, 'america': {2}, 'maruti': {2}, 'launches': {2}, 'version': {2}, 'alto': {2}, 'k10': {2}, 'or': {2}, 'without': {2}, 'automatic': {2}, 'facility': {2}, 'indian': {2}, 'market': {2}, 'entertainment': {3}, 'includes': {3, 6}, 'things': {3, 4, 5}, 'responsible': {3}, 'for': {3, 6}, 'holding': {3}, 'attention': {3}, 'interest': {3}, 'an': {3}, 'audience': {3}, 'it': {3, 5, 6, 7}, 'like': {3, 5}, 'news': {3}, 'celebrities': {3}, 'fashion': {3}, 'movies': {3}, 'music': {3}, 'television': {3}, 'shows': {3}, 'etc': {3, 4}, 'engineering': {4}, 'makes': {4}, 'development': {4}, 'any': {4}, 'country': {4, 6}, 'engineers': {4}, 'manufacturing': {4}, 'beneficial': {4}, 'by': {4, 5}, 'as': {4, 5}, 'professional': {4}, 'software': {4}, 'develops': {4}, 'programs': {4}, 'reduces': {4}, 'man': {4}, 'work': {4}, 'civil': {4}, 'gives': {4}, 'their': {4, 6}, 'knowledge': {4}, 'construction': {4}, 'form': {4}, 'buildings': {4}, 'hospitals': {4}, 'everything': {4}, 'can': {4}, 'be': {4}, 'controlled': {4}, 'computer': {4}, 'systems': {4}, 'nowadays': {4}, 'economy': {5}, 'called': {5}, 'economic': {5}, 'system': {5}, 'consists': {5}, 'several': {5}, 'production': {5}, 'distribution': {5}, 'using': {5}, 'up': {5}, 'important': {5}, 'goods': {5}, 'services': {5}, 'agents': {5}, 'given': {5}, 'ecological': {5}, 'scene': {5}, 'military': {6}, 'good': {6}, 'option': {6}, 'career': {6}, 'builder': {6}, 'youngsters': {6}, 'not': {6}, 'covering': {6}, 'only': {6}, 'defense': {6}, 'sector': {6}, 'its': {6}, 'forms': {6}, 'army': {6}, 'navy': {6}, 'air': {6}, 'force': {6}, 'satisfies': {6}, 'sacrifice': {6}, 'need': {6}, 'youth': {6}, 'cricket': {7}, 'most': {7}, 'popular': {7}, 'game': {7}, 'india': {7}, 'crocket': {7}, 'player': {7}, 'uses': {7}, 'bat': {7}, 'hit': {7}, 'ball': {7}, 'scoring': {7}, 'runs': {7}, 'played': {7}, 'between': {7}, 'two': {7}, 'teams': {7}, 'team': {7}, 'maximum': {7}, 'will': {7}, 'win': {7}}\n"
     ]
    }
   ],
   "source": [
    "print(inverted_index)"
   ]
  },
  {
   "cell_type": "code",
   "execution_count": null,
   "metadata": {},
   "outputs": [],
   "source": []
  }
 ],
 "metadata": {
  "kernelspec": {
   "display_name": "Python 3",
   "language": "python",
   "name": "python3"
  },
  "language_info": {
   "codemirror_mode": {
    "name": "ipython",
    "version": 3
   },
   "file_extension": ".py",
   "mimetype": "text/x-python",
   "name": "python",
   "nbconvert_exporter": "python",
   "pygments_lexer": "ipython3",
   "version": "3.8.5"
  }
 },
 "nbformat": 4,
 "nbformat_minor": 5
}
